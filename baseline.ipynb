{
 "cells": [
  {
   "cell_type": "markdown",
   "id": "d512d26b-dc6f-4f0b-b9c3-a39ba30c4fbc",
   "metadata": {},
   "source": [
    "This solves a basic CSP (locations only, no NLU)\n",
    "Current test data: Monday 08 May 2017 crossword"
   ]
  },
  {
   "cell_type": "code",
   "execution_count": 1,
   "id": "149d5909-52c4-446a-b1f8-8a7a30424ddf",
   "metadata": {},
   "outputs": [
    {
     "name": "stdout",
     "output_type": "stream",
     "text": [
      "Requirement already satisfied: python-constraint in /Users/saahil/miniconda3/lib/python3.10/site-packages (1.4.0)\n"
     ]
    },
    {
     "name": "stderr",
     "output_type": "stream",
     "text": [
      "[nltk_data] Downloading package punkt to /Users/saahil/nltk_data...\n",
      "[nltk_data]   Package punkt is already up-to-date!\n"
     ]
    },
    {
     "data": {
      "text/plain": [
       "True"
      ]
     },
     "execution_count": 1,
     "metadata": {},
     "output_type": "execute_result"
    }
   ],
   "source": [
    "#Imports\n",
    "!pip install python-constraint\n",
    "from constraint import Problem\n",
    "import csv\n",
    "from gensim.models import Word2Vec\n",
    "import gensim.downloader as api\n",
    "import numpy as np\n",
    "import pandas as pd\n",
    "from sklearn.metrics.pairwise import cosine_similarity\n",
    "from nltk.tokenize import word_tokenize, sent_tokenize\n",
    "import nltk\n",
    "nltk.download('punkt')"
   ]
  },
  {
   "cell_type": "code",
   "execution_count": 2,
   "id": "e901e896-89d7-4510-90a3-a39c16fad766",
   "metadata": {},
   "outputs": [],
   "source": [
    "#Global variables\n",
    "wordlist = []"
   ]
  },
  {
   "cell_type": "code",
   "execution_count": 3,
   "id": "af60db1e-1d73-4e54-b40b-597fcd52415e",
   "metadata": {},
   "outputs": [],
   "source": [
    "def printGrid(grid):\n",
    "    for row in grid:\n",
    "        for col in row:\n",
    "            print(col,end=\" \")\n",
    "        print()"
   ]
  },
  {
   "cell_type": "code",
   "execution_count": 4,
   "id": "c1ea238d-35a1-4525-9cbf-aaa2c82883e1",
   "metadata": {},
   "outputs": [],
   "source": [
    "def findStartingCells(grid):\n",
    "    #Output format: list of lists of format [startrow,startcol,wordlen,isAcross]\n",
    "    row_clues = []\n",
    "    col_clues = []\n",
    "\n",
    "    for row_index, row in enumerate(grid):\n",
    "        col_index = 0\n",
    "        while col_index < len(row):\n",
    "            if row[col_index] != '.':\n",
    "                start_col_index = col_index\n",
    "                length = 0\n",
    "                while col_index < len(row) and row[col_index] != '.':\n",
    "                    length += 1\n",
    "                    col_index += 1\n",
    "                row_clues.append([row_index,start_col_index,length,True])\n",
    "            col_index += 1\n",
    "\n",
    "    num_cols = len(grid[0])\n",
    "    for col_index in range(num_cols):\n",
    "        row_index = 0\n",
    "        while row_index < len(grid):\n",
    "            if grid[row_index][col_index] != '.':\n",
    "                start_row_index = row_index\n",
    "                length = 0\n",
    "                while row_index < len(grid) and grid[row_index][col_index] != '.':\n",
    "                    length += 1\n",
    "                    row_index += 1\n",
    "                col_clues.append([start_row_index,col_index,length,False])\n",
    "            row_index += 1\n",
    "    return row_clues + col_clues"
   ]
  },
  {
   "cell_type": "code",
   "execution_count": 5,
   "id": "8bfe8255-40c9-4f4f-94bf-127ce73ca359",
   "metadata": {},
   "outputs": [],
   "source": [
    "def findIntersections(clues):\n",
    "    intersections = []\n",
    "    for i,clue1 in enumerate(clues):\n",
    "        for j,clue2 in enumerate(clues):\n",
    "            if i < j:\n",
    "                row1,col1,len1,isAcross1 = clue1\n",
    "                row2,col2,len2,isAcross2 = clue2\n",
    "\n",
    "                #check intersection\n",
    "                if isAcross1 == True and isAcross2 == False:                    \n",
    "                    if row2 <= row1 < row2+len2 and col1 <= col2 < col1+len1:\n",
    "                        #clue1 is across - subtr cols\n",
    "                        posInClue1 = col2 - col1\n",
    "                        posInClue2 = row1 - row2\n",
    "                        intersections.append(((i,posInClue1),(j,posInClue2)))\n",
    "                elif isAcross1 == False and isAcross2 == True:\n",
    "                    if row1 <= row2 < row1+len1 and col2 <= col1 < col2+len2:\n",
    "                        #clue1 is down - subtr rows\n",
    "                        posInClue1 = row2 - row1\n",
    "                        posInClue2 = col1 - col2\n",
    "                        intersections.append(((i,posInClue1),(j,posInClue2)))\n",
    "    return intersections"
   ]
  },
  {
   "cell_type": "code",
   "execution_count": 6,
   "id": "a1232aaa-546d-484b-8a9c-e673772de5ba",
   "metadata": {},
   "outputs": [],
   "source": [
    "def importWordList(fp):\n",
    "    with open(fp, mode='r', encoding='utf-8') as file:\n",
    "        csv_reader = csv.reader(file)\n",
    "        for row in csv_reader:\n",
    "            toAdd = row[0].replace(\" \",\"\").upper()\n",
    "            wordlist.append(toAdd)    "
   ]
  },
  {
   "cell_type": "code",
   "execution_count": 7,
   "id": "03b254e5-1b80-488f-a77c-e8e2e3c7d810",
   "metadata": {},
   "outputs": [],
   "source": [
    "def createCSP(wordlist,clues):\n",
    "    problem = Problem()\n",
    "\n",
    "    #add a variable for each clue\n",
    "    for i, (row,col,length,isAcross) in enumerate(clues):\n",
    "        domain = [word for word in wordlist if len(word)==length]\n",
    "        problem.addVariable(i,domain)\n",
    "\n",
    "    intersections = findIntersections(clues)\n",
    "    for (clue1,pos1),(clue2,pos2) in intersections:\n",
    "        problem.addConstraint(lambda w1, w2, p1=pos1, p2=pos2: w1[p1] == w2[p2], (clue1, clue2))\n",
    "\n",
    "\n",
    "    return problem"
   ]
  },
  {
   "cell_type": "code",
   "execution_count": 8,
   "id": "eedfa7b0-c62c-46e0-aadc-54534dbc8f05",
   "metadata": {},
   "outputs": [],
   "source": [
    "def solveCSP(problem):\n",
    "    solutions = problem.getSolutions()\n",
    "    print(\"Num solutions found:\",len(solutions))\n",
    "\n",
    "    return solutions"
   ]
  },
  {
   "cell_type": "code",
   "execution_count": 9,
   "id": "23aabd81-46bd-46c4-8357-9a9bdd8e6226",
   "metadata": {},
   "outputs": [],
   "source": [
    "def fillInGrid(emptyGrid,clues,solution):\n",
    "    newGrid = emptyGrid.copy()\n",
    "    for clue,word in solution.items():\n",
    "        row,col,length,isAcross = clues[clue]\n",
    "        if isAcross:\n",
    "            for i in range(length):\n",
    "                newGrid[row][col+i] = word[i]\n",
    "        else:\n",
    "            for i in range(length):\n",
    "                newGrid[row+i][col] = word[i]\n",
    "    return newGrid"
   ]
  },
  {
   "cell_type": "code",
   "execution_count": 10,
   "id": "6926c452-3dd7-4680-a085-81ee9b4f2e27",
   "metadata": {},
   "outputs": [],
   "source": [
    "#Import full wordlist\n",
    "wordlist = []\n",
    "importWordList(\"answers_only.csv\") #stored in var wordlist"
   ]
  },
  {
   "cell_type": "code",
   "execution_count": 11,
   "id": "b73c4425-b64d-427f-8f31-2df84768d8c3",
   "metadata": {},
   "outputs": [],
   "source": [
    "#Define test puzzle\n",
    "solutionGrid = [['G', 'P', 'A', '.', 'M', 'A', 'G', 'O', 'O', '.', 'S', 'C', 'O', 'W', 'S'], ['O', 'L', 'D', '.', 'C', 'L', 'O', 'T', 'H', '.', 'I', 'O', 'N', 'I', 'A'], ['B', 'A', 'D', '.', 'E', 'L', 'L', 'E', 'F', 'A', 'N', 'N', 'I', 'N', 'G'], ['I', 'N', 'L', 'A', 'W', '.', '.', 'R', 'U', 'N', '.', 'C', 'O', 'D', 'E'], ['G', 'E', 'E', 'Y', 'A', 'T', 'H', 'I', 'N', 'K', '.', 'E', 'N', 'C', '.'], ['.', '.', '.', 'E', 'N', 'Y', 'A', '.', '.', 'H', 'A', 'R', 'S', 'H', '.'], ['A', 'N', 'T', 'S', '.', 'P', 'R', 'O', 'M', '.', 'I', 'N', 'O', 'I', 'L'], ['S', 'E', 'E', '.', 'B', 'E', 'E', 'B', 'A', 'L', 'M', '.', 'U', 'M', 'A'], ['K', 'I', 'T', 'T', 'Y', '.', 'S', 'I', 'L', 'O', '.', 'A', 'P', 'E', 'X'], ['.', 'L', 'E', 'A', 'S', 'E', '.', '.', 'I', 'N', 'S', 'T', '.', '.', '.'], ['.', 'Y', 'A', 'K', '.', 'T', 'E', 'A', 'K', 'E', 'T', 'T', 'L', 'E', 'S'], ['N', 'O', 'T', 'E', '.', 'T', 'L', 'C', '.', '.', 'A', 'N', 'G', 'L', 'E'], ['C', 'U', 'E', 'T', 'H', 'E', 'M', 'U', 'S', 'I', 'C', '.', 'B', 'I', 'C'], ['A', 'N', 'T', 'E', 'S', '.', 'S', 'T', 'A', 'R', 'K', '.', 'T', 'O', 'T'], ['A', 'G', 'E', 'N', 'T', '.', 'T', 'E', 'X', 'A', 'S', '.', 'Q', 'T', 'S']]\n",
    "emptyGrid = [['.' if cell == '.' else ' ' for cell in row] for row in solutionGrid]\n",
    "answersList = [\"GPA\",\"MAGOO\",\"SCOWS\",\"OLD\",\"CLOTH\",\"IONIA\",\"BAD\",\"ELLEFANNING\",\"INLAW\",\"RUN\",\"CODE\",\"GEEYATHINK\",\"ENC\",\"ENYA\",\"HARSH\",\"ANTS\",\"PROM\",\"INOIL\",\"SEE\",\"BEEBALM\",\"UMA\",\"KITTY\",\"SILO\",\"APEX\",\"LEASE\",\"INST\",\"YAK\",\"TEAKETTLES\",\"NOTE\",\"TLC\",\"ANGLE\",\"CUETHEMUSIC\",\"BIC\",\"ANTES\",\"STARK\",\"TOT\",\"AGENT\",\"TEXAS\",\"QTS\",\"GOBIG\",\"PLANE\",\"ADDLE\",\"MCEWAN\",\"ALL\",\"GOL\",\"OTERI\",\"OHFUN\",\"SIN\",\"CONCERN\",\"ONIONSOUP\",\"WINDCHIME\",\"SAGE\",\"ANKH\",\"AYES\",\"TYPE\",\"HARES\",\"AIM\",\"ASK\",\"NEILYOUNG\",\"TETEATETE\",\"OBI\",\"MALIK\",\"LAX\",\"BYS\",\"LONE\",\"TAKETEN\",\"ATTN\",\"ETTE\",\"STACKS\",\"ELMST\",\"ACUTE\",\"LGBTQ\",\"ELIOT\",\"SECTS\",\"NCAA\",\"HST\",\"SAX\",\"IRA\"]"
   ]
  },
  {
   "cell_type": "code",
   "execution_count": 12,
   "id": "aaf8e46f-3746-4870-928b-e75eb7604aed",
   "metadata": {},
   "outputs": [
    {
     "name": "stdout",
     "output_type": "stream",
     "text": [
      "Num solutions found: 1\n",
      "-----------------------------------------------------------------------------------------------------------------------\n",
      "\n",
      "Solution #1\n",
      "G P A . M A G O O . S C O W S \n",
      "O L D . C L O T H . I O N I A \n",
      "B A D . E L L E F A N N I N G \n",
      "I N L A W . . R U N . C O D E \n",
      "G E E Y A T H I N K . E N C . \n",
      ". . . E N Y A . . H A R S H . \n",
      "A N T S . P R O M . I N O I L \n",
      "S E E . B E E B A L M . U M A \n",
      "K I T T Y . S I L O . A P E X \n",
      ". L E A S E . . I N S T . . . \n",
      ". Y A K . T E A K E T T L E S \n",
      "N O T E . T L C . . A N G L E \n",
      "C U E T H E M U S I C . B I C \n",
      "A N T E S . S T A R K . T O T \n",
      "A G E N T . T E X A S . Q T S \n",
      "\n",
      "Actual Solution\n",
      "G P A . M A G O O . S C O W S \n",
      "O L D . C L O T H . I O N I A \n",
      "B A D . E L L E F A N N I N G \n",
      "I N L A W . . R U N . C O D E \n",
      "G E E Y A T H I N K . E N C . \n",
      ". . . E N Y A . . H A R S H . \n",
      "A N T S . P R O M . I N O I L \n",
      "S E E . B E E B A L M . U M A \n",
      "K I T T Y . S I L O . A P E X \n",
      ". L E A S E . . I N S T . . . \n",
      ". Y A K . T E A K E T T L E S \n",
      "N O T E . T L C . . A N G L E \n",
      "C U E T H E M U S I C . B I C \n",
      "A N T E S . S T A R K . T O T \n",
      "A G E N T . T E X A S . Q T S \n",
      "\n",
      "Average accuracy: 1.0 on 1 solution(s) generated\n",
      "-----------------------------------------------------------------------------------------------------------------------\n"
     ]
    }
   ],
   "source": [
    "#Create and solve CSP\n",
    "clues = findStartingCells(solutionGrid)\n",
    "problem = createCSP(answersList,clues)\n",
    "solutions = solveCSP(problem)\n",
    "\n",
    "#Print generated solutions\n",
    "print(\"-----------------------------------------------------------------------------------------------------------------------\")\n",
    "for i,solution in enumerate(solutions):\n",
    "    print()\n",
    "    print(f\"Solution #{i+1}\")\n",
    "    printGrid(fillInGrid(emptyGrid,clues,solution))\n",
    "\n",
    "print()\n",
    "print(\"Actual Solution\")\n",
    "printGrid(solutionGrid)\n",
    "print()\n",
    "\n",
    "#Compute and print correctness\n",
    "#Correctness is defined as the average number of correct cells across all generated solutions\n",
    "#Note that in a 15x15 setup the core is small, so we expect there to be usually only 0 or 1 solution generated; averaging thus usually won't apply\n",
    "\n",
    "#TODO: If a solution isn't fully generated, we don't get an output and our accuracy is 0. How do we allow for partial solutions (i.e. CSP partially solved and then leads to contradiction)?\n",
    "points_possible = 225 - sum(row.count('.') for row in solutionGrid)\n",
    "correctness = 0\n",
    "for solution in solutions:\n",
    "    score = points_possible\n",
    "    candidateSoln = fillInGrid(emptyGrid,clues,solution)\n",
    "    for i in range(15):\n",
    "        for j in range(15):\n",
    "            if candidateSoln[i][j] != solutionGrid[i][j]:\n",
    "                score -= 1\n",
    "    correctness += score/points_possible\n",
    "if len(solutions) != 0:\n",
    "    correctness /= len(solutions)\n",
    "\n",
    "print(f\"Average accuracy: {round(correctness,3)} on {len(solutions)} solution(s) generated\")\n",
    "print(\"-----------------------------------------------------------------------------------------------------------------------\")\n"
   ]
  },
  {
   "cell_type": "code",
   "execution_count": 13,
   "id": "9e27ce6a-0fdb-4b21-89ac-17627b1bbe81",
   "metadata": {},
   "outputs": [
    {
     "name": "stdout",
     "output_type": "stream",
     "text": [
      "G P A ■ M A G O O ■ S C O W S \n",
      "O L D ■ C L O T H ■ I O N I A \n",
      "B A D ■ E L L E F A N N I N G \n",
      "I N L A W ■ ■ R U N ■ C O D E \n",
      "G E E Y A T H I N K ■ E N C ■ \n",
      "■ ■ ■ E N Y A ■ ■ H A R S H ■ \n",
      "A N T S ■ P R O M ■ I N O I L \n",
      "S E E ■ B E E B A L M ■ U M A \n",
      "K I T T Y ■ S I L O ■ A P E X \n",
      "■ L E A S E ■ ■ I N S T ■ ■ ■ \n",
      "■ Y A K ■ T E A K E T T L E S \n",
      "N O T E ■ T L C ■ ■ A N G L E \n",
      "C U E T H E M U S I C ■ B I C \n",
      "A N T E S ■ S T A R K ■ T O T \n",
      "A G E N T ■ T E X A S ■ Q T S \n",
      "[[0, 0, 3, True], [0, 4, 5, True], [0, 10, 5, True], [1, 0, 3, True], [1, 4, 5, True], [1, 10, 5, True], [2, 0, 3, True], [2, 4, 11, True], [3, 0, 5, True], [3, 7, 3, True], [3, 11, 4, True], [4, 0, 10, True], [4, 11, 3, True], [5, 3, 4, True], [5, 9, 5, True], [6, 0, 4, True], [6, 5, 4, True], [6, 10, 5, True], [7, 0, 3, True], [7, 4, 7, True], [7, 12, 3, True], [8, 0, 5, True], [8, 6, 4, True], [8, 11, 4, True], [9, 1, 5, True], [9, 8, 4, True], [10, 1, 3, True], [10, 5, 10, True], [11, 0, 4, True], [11, 5, 3, True], [11, 10, 5, True], [12, 0, 11, True], [12, 12, 3, True], [13, 0, 5, True], [13, 6, 5, True], [13, 12, 3, True], [14, 0, 5, True], [14, 6, 5, True], [14, 12, 3, True], [0, 0, 5, False], [6, 0, 3, False], [11, 0, 4, False], [0, 1, 5, False], [6, 1, 9, False], [0, 2, 5, False], [6, 2, 9, False], [3, 3, 4, False], [8, 3, 7, False], [0, 4, 6, False], [7, 4, 3, False], [12, 4, 3, False], [0, 5, 3, False], [4, 5, 4, False], [9, 5, 4, False], [0, 6, 3, False], [4, 6, 5, False], [10, 6, 5, False], [0, 7, 5, False], [6, 7, 3, False], [10, 7, 5, False], [0, 8, 5, False], [6, 8, 5, False], [12, 8, 3, False], [2, 9, 4, False], [7, 9, 4, False], [12, 9, 3, False], [0, 10, 3, False], [5, 10, 3, False], [9, 10, 6, False], [0, 11, 7, False], [8, 11, 4, False], [0, 12, 9, False], [10, 12, 5, False], [0, 13, 9, False], [10, 13, 5, False], [0, 14, 4, False], [6, 14, 3, False], [10, 14, 5, False]]\n",
      "[((0, 0), (39, 0)), ((0, 1), (42, 0)), ((0, 2), (44, 0)), ((1, 0), (48, 0)), ((1, 1), (51, 0)), ((1, 2), (54, 0)), ((1, 3), (57, 0)), ((1, 4), (60, 0)), ((2, 0), (66, 0)), ((2, 1), (69, 0)), ((2, 2), (71, 0)), ((2, 3), (73, 0)), ((2, 4), (75, 0)), ((3, 0), (39, 1)), ((3, 1), (42, 1)), ((3, 2), (44, 1)), ((4, 0), (48, 1)), ((4, 1), (51, 1)), ((4, 2), (54, 1)), ((4, 3), (57, 1)), ((4, 4), (60, 1)), ((5, 0), (66, 1)), ((5, 1), (69, 1)), ((5, 2), (71, 1)), ((5, 3), (73, 1)), ((5, 4), (75, 1)), ((6, 0), (39, 2)), ((6, 1), (42, 2)), ((6, 2), (44, 2)), ((7, 0), (48, 2)), ((7, 1), (51, 2)), ((7, 2), (54, 2)), ((7, 3), (57, 2)), ((7, 4), (60, 2)), ((7, 5), (63, 0)), ((7, 6), (66, 2)), ((7, 7), (69, 2)), ((7, 8), (71, 2)), ((7, 9), (73, 2)), ((7, 10), (75, 2)), ((8, 0), (39, 3)), ((8, 1), (42, 3)), ((8, 2), (44, 3)), ((8, 3), (46, 0)), ((8, 4), (48, 3)), ((9, 0), (57, 3)), ((9, 1), (60, 3)), ((9, 2), (63, 1)), ((10, 0), (69, 3)), ((10, 1), (71, 3)), ((10, 2), (73, 3)), ((10, 3), (75, 3)), ((11, 0), (39, 4)), ((11, 1), (42, 4)), ((11, 2), (44, 4)), ((11, 3), (46, 1)), ((11, 4), (48, 4)), ((11, 5), (52, 0)), ((11, 6), (55, 0)), ((11, 7), (57, 4)), ((11, 8), (60, 4)), ((11, 9), (63, 2)), ((12, 0), (69, 4)), ((12, 1), (71, 4)), ((12, 2), (73, 4)), ((13, 0), (46, 2)), ((13, 1), (48, 5)), ((13, 2), (52, 1)), ((13, 3), (55, 1)), ((14, 0), (63, 3)), ((14, 1), (67, 0)), ((14, 2), (69, 5)), ((14, 3), (71, 5)), ((14, 4), (73, 5)), ((15, 0), (40, 0)), ((15, 1), (43, 0)), ((15, 2), (45, 0)), ((15, 3), (46, 3)), ((16, 0), (52, 2)), ((16, 1), (55, 2)), ((16, 2), (58, 0)), ((16, 3), (61, 0)), ((17, 0), (67, 1)), ((17, 1), (69, 6)), ((17, 2), (71, 6)), ((17, 3), (73, 6)), ((17, 4), (76, 0)), ((18, 0), (40, 1)), ((18, 1), (43, 1)), ((18, 2), (45, 1)), ((19, 0), (49, 0)), ((19, 1), (52, 3)), ((19, 2), (55, 3)), ((19, 3), (58, 1)), ((19, 4), (61, 1)), ((19, 5), (64, 0)), ((19, 6), (67, 2)), ((20, 0), (71, 7)), ((20, 1), (73, 7)), ((20, 2), (76, 1)), ((21, 0), (40, 2)), ((21, 1), (43, 2)), ((21, 2), (45, 2)), ((21, 3), (47, 0)), ((21, 4), (49, 1)), ((22, 0), (55, 4)), ((22, 1), (58, 2)), ((22, 2), (61, 2)), ((22, 3), (64, 1)), ((23, 0), (70, 0)), ((23, 1), (71, 8)), ((23, 2), (73, 8)), ((23, 3), (76, 2)), ((24, 0), (43, 3)), ((24, 1), (45, 3)), ((24, 2), (47, 1)), ((24, 3), (49, 2)), ((24, 4), (53, 0)), ((25, 0), (61, 3)), ((25, 1), (64, 2)), ((25, 2), (68, 0)), ((25, 3), (70, 1)), ((26, 0), (43, 4)), ((26, 1), (45, 4)), ((26, 2), (47, 2)), ((27, 0), (53, 1)), ((27, 1), (56, 0)), ((27, 2), (59, 0)), ((27, 3), (61, 4)), ((27, 4), (64, 3)), ((27, 5), (68, 1)), ((27, 6), (70, 2)), ((27, 7), (72, 0)), ((27, 8), (74, 0)), ((27, 9), (77, 0)), ((28, 0), (41, 0)), ((28, 1), (43, 5)), ((28, 2), (45, 5)), ((28, 3), (47, 3)), ((29, 0), (53, 2)), ((29, 1), (56, 1)), ((29, 2), (59, 1)), ((30, 0), (68, 2)), ((30, 1), (70, 3)), ((30, 2), (72, 1)), ((30, 3), (74, 1)), ((30, 4), (77, 1)), ((31, 0), (41, 1)), ((31, 1), (43, 6)), ((31, 2), (45, 6)), ((31, 3), (47, 4)), ((31, 4), (50, 0)), ((31, 5), (53, 3)), ((31, 6), (56, 2)), ((31, 7), (59, 2)), ((31, 8), (62, 0)), ((31, 9), (65, 0)), ((31, 10), (68, 3)), ((32, 0), (72, 2)), ((32, 1), (74, 2)), ((32, 2), (77, 2)), ((33, 0), (41, 2)), ((33, 1), (43, 7)), ((33, 2), (45, 7)), ((33, 3), (47, 5)), ((33, 4), (50, 1)), ((34, 0), (56, 3)), ((34, 1), (59, 3)), ((34, 2), (62, 1)), ((34, 3), (65, 1)), ((34, 4), (68, 4)), ((35, 0), (72, 3)), ((35, 1), (74, 3)), ((35, 2), (77, 3)), ((36, 0), (41, 3)), ((36, 1), (43, 8)), ((36, 2), (45, 8)), ((36, 3), (47, 6)), ((36, 4), (50, 2)), ((37, 0), (56, 4)), ((37, 1), (59, 4)), ((37, 2), (62, 2)), ((37, 3), (65, 2)), ((37, 4), (68, 5)), ((38, 0), (72, 4)), ((38, 1), (74, 4)), ((38, 2), (77, 4))]\n"
     ]
    }
   ],
   "source": [
    "emptyGrid = [['■' if cell == '.' else cell for cell in row] for row in solutionGrid]\n",
    "printGrid(emptyGrid)\n",
    "print(clues)\n",
    "print(findIntersections(clues))"
   ]
  },
  {
   "cell_type": "code",
   "execution_count": null,
   "id": "3f0d49a3-d541-4e5c-9270-7a91de30df5e",
   "metadata": {},
   "outputs": [],
   "source": []
  }
 ],
 "metadata": {
  "kernelspec": {
   "display_name": "Python 3 (ipykernel)",
   "language": "python",
   "name": "python3"
  },
  "language_info": {
   "codemirror_mode": {
    "name": "ipython",
    "version": 3
   },
   "file_extension": ".py",
   "mimetype": "text/x-python",
   "name": "python",
   "nbconvert_exporter": "python",
   "pygments_lexer": "ipython3",
   "version": "3.10.13"
  }
 },
 "nbformat": 4,
 "nbformat_minor": 5
}
