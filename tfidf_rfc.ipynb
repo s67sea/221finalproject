{
 "cells": [
  {
   "cell_type": "markdown",
   "metadata": {},
   "source": [
    "## TF-IDF Vectorizer + Random Forest Classifier NLU Module"
   ]
  },
  {
   "cell_type": "code",
   "execution_count": 2,
   "metadata": {},
   "outputs": [
    {
     "name": "stderr",
     "output_type": "stream",
     "text": [
      "[Parallel(n_jobs=-1)]: Using backend ThreadingBackend with 8 concurrent workers.\n",
      "[Parallel(n_jobs=-1)]: Done  34 tasks      | elapsed:   21.9s\n"
     ]
    }
   ],
   "source": [
    "import pandas as pd\n",
    "from sklearn.feature_extraction.text import TfidfVectorizer\n",
    "from sklearn.ensemble import RandomForestClassifier\n",
    "from sklearn.model_selection import train_test_split\n",
    "from sklearn.pipeline import Pipeline\n",
    "import joblib\n",
    "\n",
    "# Load the crossword training dataset\n",
    "df_train = pd.read_csv('crossword_train.csv', na_filter=False)\n",
    "\n",
    "# Sample a subset of size n\n",
    "df_train = df_train.sample(n=1000, random_state=42)\n",
    "\n",
    "# Assuming you have 'clue' and 'answer' columns\n",
    "X_train = df_train['clue'].astype(str)  # Convert to string to handle non-string data\n",
    "y_train = df_train['answer']\n",
    "\n",
    "# Split the data into training and testing sets\n",
    "X_train, X_test, y_train, y_test = train_test_split(X_train, y_train, test_size=0.2, random_state=42)\n",
    "\n",
    "# Create a pipeline with TF-IDF vectorizer and Random Forest classifier\n",
    "model = Pipeline([\n",
    "    ('tfidf', TfidfVectorizer()),\n",
    "    ('clf', RandomForestClassifier(n_estimators=100, random_state=42, verbose=True, n_jobs=-1))\n",
    "])\n",
    "\n",
    "# Train the model\n",
    "model.fit(X_train, y_train)\n",
    "\n",
    "# Make predictions on the test set and get probabilities\n",
    "y_pred_proba = model.predict_proba(X_test)\n",
    "\n",
    "# Get the top 20 words for each clue based on probabilities\n",
    "top_words = []\n",
    "for proba_prediction in y_pred_proba:\n",
    "    # Get indices of top 20 words\n",
    "    top_indices = proba_prediction.argsort()[-2000:][::-1]\n",
    "    \n",
    "    # Get corresponding words from the target classes\n",
    "    top_words.append(list(model.classes_[top_indices]))\n",
    "\n",
    "# Evaluate the model\n",
    "correct_predictions = 0\n",
    "for i, true_answer in enumerate(y_test):\n",
    "    if true_answer in top_words[i]:\n",
    "        correct_predictions += 1\n",
    "        print(\"Predicted Words:\", top_words[i])\n",
    "        print(\"True answer:\", true_answer)\n",
    "        print()\n",
    "\n",
    "accuracy = correct_predictions / len(y_test)\n",
    "print(f\"Accuracy on the test set: {accuracy:.2%}\")"
   ]
  },
  {
   "cell_type": "code",
   "execution_count": null,
   "metadata": {},
   "outputs": [],
   "source": [
    "# Save the trained model for later use\n",
    "joblib.dump(model, 'crossword_model.pkl')"
   ]
  },
  {
   "cell_type": "code",
   "execution_count": null,
   "metadata": {},
   "outputs": [],
   "source": [
    "# Example usage: Make predictions on new clues and get probabilities\n",
    "new_clues = [\"Wrestling sport for gigantic Japanese\", \"Explorer or actor Sebastian\"]\n",
    "proba_predictions = model.predict_proba(new_clues)\n",
    "\n",
    "# Get the top 20 words for each clue based on probabilities\n",
    "top_words = []\n",
    "for proba_prediction in proba_predictions:\n",
    "    # Get indices of top 20 words\n",
    "    top_indices = proba_prediction.argsort()[-20:][::-1]\n",
    "    \n",
    "    # Get corresponding words from the target classes\n",
    "    top_words.append(list(model.classes_[top_indices]))\n",
    "\n",
    "print(\"Top 20 Predictions for Each Clue:\")\n",
    "for i, clue_words in enumerate(top_words):\n",
    "    print(f\"Clue #{i + 1}: {new_clues[i]}\")\n",
    "    print(\"Predicted Words:\", clue_words)\n",
    "    print()"
   ]
  }
 ],
 "metadata": {
  "kernelspec": {
   "display_name": "Python 3",
   "language": "python",
   "name": "python3"
  },
  "language_info": {
   "codemirror_mode": {
    "name": "ipython",
    "version": 3
   },
   "file_extension": ".py",
   "mimetype": "text/x-python",
   "name": "python",
   "nbconvert_exporter": "python",
   "pygments_lexer": "ipython3",
   "version": "3.11.6"
  }
 },
 "nbformat": 4,
 "nbformat_minor": 2
}
